{
  "nbformat": 4,
  "nbformat_minor": 0,
  "metadata": {
    "colab": {
      "provenance": [],
      "authorship_tag": "ABX9TyPYg9Y7P46nn7SeVoFHkXQM",
      "include_colab_link": true
    },
    "kernelspec": {
      "name": "python3",
      "display_name": "Python 3"
    },
    "language_info": {
      "name": "python"
    }
  },
  "cells": [
    {
      "cell_type": "markdown",
      "metadata": {
        "id": "view-in-github",
        "colab_type": "text"
      },
      "source": [
        "<a href=\"https://colab.research.google.com/github/Joshmi-K-Joy/data-analytics-lab/blob/main/Neural_Network.ipynb\" target=\"_parent\"><img src=\"https://colab.research.google.com/assets/colab-badge.svg\" alt=\"Open In Colab\"/></a>"
      ]
    },
    {
      "cell_type": "markdown",
      "source": [
        "# Step 1: Import required libraries"
      ],
      "metadata": {
        "id": "0zqbFQtsZlOh"
      }
    },
    {
      "cell_type": "code",
      "source": [
        "import numpy as np\n",
        "import matplotlib.pyplot as plt"
      ],
      "metadata": {
        "id": "DpV8lyNEZppe"
      },
      "execution_count": 8,
      "outputs": []
    },
    {
      "cell_type": "markdown",
      "source": [
        "\n",
        "# Step 2: Define binary patterns for letters A, B, C"
      ],
      "metadata": {
        "id": "VhrsDG76ZrkR"
      }
    },
    {
      "cell_type": "code",
      "execution_count": 9,
      "metadata": {
        "id": "yUdmK9buYFA4"
      },
      "outputs": [],
      "source": [
        "def get_letter_patterns():\n",
        "    A = np.array([\n",
        "        [0,1,1,1,0,0],\n",
        "        [1,0,0,0,1,0],\n",
        "        [1,1,1,1,1,0],\n",
        "        [1,0,0,0,1,0],\n",
        "        [1,0,0,0,1,0]\n",
        "    ]).flatten()\n",
        "\n",
        "    B = np.array([\n",
        "        [1,1,1,0,0,0],\n",
        "        [1,0,0,1,0,0],\n",
        "        [1,1,1,0,0,0],\n",
        "        [1,0,0,1,0,0],\n",
        "        [1,1,1,0,0,0]\n",
        "    ]).flatten()\n",
        "\n",
        "    C = np.array([\n",
        "        [0,1,1,1,0,0],\n",
        "        [1,0,0,0,1,0],\n",
        "        [1,0,0,0,0,0],\n",
        "        [1,0,0,0,1,0],\n",
        "        [0,1,1,1,0,0]\n",
        "    ]).flatten()\n",
        "\n",
        "    labels = {\n",
        "        'A': [1, 0, 0],\n",
        "        'B': [0, 1, 0],\n",
        "        'C': [0, 0, 1]\n",
        "    }\n",
        "\n",
        "    return np.array([A, B, C]), np.array([labels['A'], labels['B'], labels['C']])\n"
      ]
    },
    {
      "cell_type": "markdown",
      "source": [
        "# Step 3: Define activation functions"
      ],
      "metadata": {
        "id": "sn1ZqBBGZyfN"
      }
    },
    {
      "cell_type": "code",
      "source": [
        "def sigmoid(x):\n",
        "    return 1 / (1 + np.exp(-x))\n",
        "\n",
        "def sigmoid_derivative(x):\n",
        "    return x * (1 - x)\n"
      ],
      "metadata": {
        "id": "dYkm-ZGHZUvW"
      },
      "execution_count": 10,
      "outputs": []
    },
    {
      "cell_type": "markdown",
      "source": [
        "# Step 4: Network parameters"
      ],
      "metadata": {
        "id": "VXsYnGC8Z2nK"
      }
    },
    {
      "cell_type": "code",
      "source": [
        "input_size = 30\n",
        "hidden_size = 10\n",
        "output_size = 3\n",
        "learning_rate = 0.5\n",
        "epochs = 1000\n",
        "\n",
        "np.random.seed(1)\n",
        "weights_input_hidden = np.random.uniform(-1, 1, (input_size, hidden_size))\n",
        "weights_hidden_output = np.random.uniform(-1, 1, (hidden_size, output_size))\n",
        "bias_hidden = np.zeros((1, hidden_size))\n",
        "bias_output = np.zeros((1, output_size))\n"
      ],
      "metadata": {
        "id": "cxeqU-vwZW0b"
      },
      "execution_count": 11,
      "outputs": []
    },
    {
      "cell_type": "markdown",
      "source": [
        "# Step 5: Training loop"
      ],
      "metadata": {
        "id": "ht9eLZDoZ7lk"
      }
    },
    {
      "cell_type": "code",
      "source": [
        "inputs, targets = get_letter_patterns()\n",
        "losses = []\n",
        "\n",
        "for epoch in range(epochs):\n",
        "    total_loss = 0\n",
        "    for i in range(len(inputs)):\n",
        "        x = inputs[i].reshape(1, -1)\n",
        "        y = targets[i].reshape(1, -1)\n",
        "\n",
        "        hidden_input = np.dot(x, weights_input_hidden) + bias_hidden\n",
        "        hidden_output = sigmoid(hidden_input)\n",
        "\n",
        "        final_input = np.dot(hidden_output, weights_hidden_output) + bias_output\n",
        "        final_output = sigmoid(final_input)\n",
        "\n",
        "        loss = np.mean((y - final_output) ** 2)\n",
        "        total_loss += loss\n",
        "\n",
        "        error = y - final_output\n",
        "        d_output = error * sigmoid_derivative(final_output)\n",
        "\n",
        "        error_hidden = d_output.dot(weights_hidden_output.T)\n",
        "        d_hidden = error_hidden * sigmoid_derivative(hidden_output)\n",
        "\n",
        "        weights_hidden_output += hidden_output.T.dot(d_output) * learning_rate\n",
        "        bias_output += d_output * learning_rate\n",
        "\n",
        "        weights_input_hidden += x.T.dot(d_hidden) * learning_rate\n",
        "        bias_hidden += d_hidden * learning_rate\n",
        "\n",
        "    losses.append(total_loss / len(inputs))\n"
      ],
      "metadata": {
        "id": "ecbHocN9ZYoL"
      },
      "execution_count": 12,
      "outputs": []
    },
    {
      "cell_type": "markdown",
      "source": [
        "# Step 6: Plot training loss"
      ],
      "metadata": {
        "id": "G2QQvZqwaAW-"
      }
    },
    {
      "cell_type": "code",
      "source": [
        "plt.plot(losses)\n",
        "plt.title(\"Training Loss over Epochs\")\n",
        "plt.xlabel(\"Epoch\")\n",
        "plt.ylabel(\"Loss\")\n",
        "plt.grid(True)\n",
        "plt.show()"
      ],
      "metadata": {
        "colab": {
          "base_uri": "https://localhost:8080/",
          "height": 472
        },
        "id": "bgIk838sZaXP",
        "outputId": "17d7e9dd-b873-4328-a7ec-2b003b868f0c"
      },
      "execution_count": 13,
      "outputs": [
        {
          "output_type": "display_data",
          "data": {
            "text/plain": [
              "<Figure size 640x480 with 1 Axes>"
            ],
            "image/png": "[encoded data removed]"
          },
          "metadata": {}
        }
      ]
    },
    {
      "cell_type": "markdown",
      "source": [
        "# Step 7: Prediction functions"
      ],
      "metadata": {
        "id": "LJsxjR-CaKyc"
      }
    },
    {
      "cell_type": "code",
      "source": [
        "def predict(image):\n",
        "    hidden = sigmoid(np.dot(image, weights_input_hidden) + bias_hidden)\n",
        "    output = sigmoid(np.dot(hidden, weights_hidden_output) + bias_output)\n",
        "    return output\n",
        "\n",
        "def show_image(img_vector, label_pred):\n",
        "    plt.imshow(img_vector.reshape(5,6), cmap='gray_r')\n",
        "    plt.title(f\"Predicted Letter: {label_pred}\")\n",
        "    plt.axis('off')\n",
        "    plt.show()\n"
      ],
      "metadata": {
        "id": "kZjzjqr8Zc-0"
      },
      "execution_count": 14,
      "outputs": []
    },
    {
      "cell_type": "markdown",
      "source": [
        "# Step 8: Display predictions"
      ],
      "metadata": {
        "id": "xwk95UJyaPmR"
      }
    },
    {
      "cell_type": "code",
      "source": [
        "index_to_letter = ['A', 'B', 'C']\n",
        "\n",
        "for i in range(len(inputs)):\n",
        "    out = predict(inputs[i].reshape(1, -1))\n",
        "    predicted_label = index_to_letter[np.argmax(out)]\n",
        "    show_image(inputs[i], predicted_label)\n"
      ],
      "metadata": {
        "colab": {
          "base_uri": "https://localhost:8080/",
          "height": 1000
        },
        "id": "6SpLFD5aZe7-",
        "outputId": "b66bc9dc-baf2-4a09-f2cf-5410d0ead38f"
      },
      "execution_count": 15,
      "outputs": [
        {
          "output_type": "display_data",
          "data": {
            "text/plain": [
              "<Figure size 640x480 with 1 Axes>"
            ],
            "image/png": "[encoded data removed]"
          },
          "metadata": {}
        },
        {
          "output_type": "display_data",
          "data": {
            "text/plain": [
              "<Figure size 640x480 with 1 Axes>"
            ],
            "image/png": "[encoded data removed]"
          },
          "metadata": {}
        },
        {
          "output_type": "display_data",
          "data": {
            "text/plain": [
              "<Figure size 640x480 with 1 Axes>"
            ],
            "image/png": "[encoded data removed]"
          },
          "metadata": {}
        }
      ]
    },
    {
      "cell_type": "code",
      "source": [],
      "metadata": {
        "id": "EeBFEOAGZggS"
      },
      "execution_count": null,
      "outputs": []
    }
  ]
}