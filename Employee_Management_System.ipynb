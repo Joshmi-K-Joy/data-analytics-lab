{
  "nbformat": 4,
  "nbformat_minor": 0,
  "metadata": {
    "colab": {
      "provenance": [],
      "authorship_tag": "ABX9TyP6RmwmazjLZEE1a/S224pC",
      "include_colab_link": true
    },
    "kernelspec": {
      "name": "python3",
      "display_name": "Python 3"
    },
    "language_info": {
      "name": "python"
    }
  },
  "cells": [
    {
      "cell_type": "markdown",
      "metadata": {
        "id": "view-in-github",
        "colab_type": "text"
      },
      "source": [
        "<a href=\"https://colab.research.google.com/github/Joshmi-K-Joy/data-analytics-lab/blob/main/Employee_Management_System.ipynb\" target=\"_parent\"><img src=\"https://colab.research.google.com/assets/colab-badge.svg\" alt=\"Open In Colab\"/></a>"
      ]
    },
    {
      "cell_type": "code",
      "execution_count": 1,
      "metadata": {
        "id": "OYojYXbNAOYZ"
      },
      "outputs": [],
      "source": [
        "class Employee:\n",
        "    def __init__(self, emp_id, name, age, department, salary):\n",
        "        self.emp_id = emp_id\n",
        "        self.name = name\n",
        "        self.age = age\n",
        "        self.department = department\n",
        "        self.salary = salary\n",
        "\n",
        "    def display_info(self):\n",
        "        return f\"{self.emp_id:<10} {self.name:<15} {self.age:<5} {self.department:<15} {self.salary:<10}\""
      ]
    },
    {
      "cell_type": "code",
      "source": [
        "class EmployeeManagementSystem:\n",
        "    def __init__(self):\n",
        "        self.employees = {}  # emp_id -> Employee object\n",
        "\n",
        "        # Sample data\n",
        "        self.employees[101] = Employee(101, 'Satya', 27, 'HR', 50000)\n",
        "        self.employees[102] = Employee(102, 'Riya', 30, 'Finance', 60000)\n",
        "\n",
        "    def add_employee(self):\n",
        "        try:\n",
        "            emp_id = int(input(\"Enter Employee ID: \"))\n",
        "            if emp_id in self.employees:\n",
        "                print(\"Employee ID already exists.\")\n",
        "                return\n",
        "\n",
        "            name = input(\"Enter Name: \")\n",
        "            age = int(input(\"Enter Age: \"))\n",
        "            department = input(\"Enter Department: \")\n",
        "            salary = float(input(\"Enter Salary: \"))\n",
        "\n",
        "            self.employees[emp_id] = Employee(emp_id, name, age, department, salary)\n",
        "            print(\"Employee added successfully!\")\n",
        "\n",
        "        except ValueError:\n",
        "            print(\"Invalid input. Please enter correct data.\")\n",
        "\n",
        "    def view_employees(self):\n",
        "        if not self.employees:\n",
        "            print(\"No employees available.\")\n",
        "            return\n",
        "\n",
        "        print(\"\\n--- All Employees ---\")\n",
        "        print(\"{:<10} {:<15} {:<5} {:<15} {:<10}\".format(\"Emp ID\", \"Name\", \"Age\", \"Department\", \"Salary\"))\n",
        "        print(\"-\" * 60)\n",
        "        for emp in self.employees.values():\n",
        "            print(emp.display_info())\n",
        "\n",
        "    def search_employee(self):\n",
        "        try:\n",
        "            emp_id = int(input(\"Enter Employee ID to search: \"))\n",
        "            if emp_id in self.employees:\n",
        "                emp = self.employees[emp_id]\n",
        "                print(\"\\n--- Employee Found ---\")\n",
        "                print(f\"Name: {emp.name}\")\n",
        "                print(f\"Age: {emp.age}\")\n",
        "                print(f\"Department: {emp.department}\")\n",
        "                print(f\"Salary: {emp.salary}\")\n",
        "            else:\n",
        "                print(\"Employee not found.\")\n",
        "        except ValueError:\n",
        "            print(\"Please enter a valid Employee ID.\")\n",
        "\n",
        "    def main_menu(self):\n",
        "        while True:\n",
        "            print(\"\\n--- Employee Management System ---\")\n",
        "            print(\"1. Add Employee\")\n",
        "            print(\"2. View All Employees\")\n",
        "            print(\"3. Search for Employee\")\n",
        "            print(\"4. Exit\")\n",
        "\n",
        "            choice = input(\"Enter your choice (1-4): \")\n",
        "\n",
        "            if choice == '1':\n",
        "                self.add_employee()\n",
        "            elif choice == '2':\n",
        "                self.view_employees()\n",
        "            elif choice == '3':\n",
        "                self.search_employee()\n",
        "            elif choice == '4':\n",
        "                print(\"Thank you for using EMS. Goodbye!\")\n",
        "                break\n",
        "            else:\n",
        "                print(\"Invalid choice. Try again.\")"
      ],
      "metadata": {
        "id": "y0jQbbOBAVdA"
      },
      "execution_count": 2,
      "outputs": []
    },
    {
      "cell_type": "code",
      "source": [
        "if __name__ == \"__main__\":\n",
        "    ems = EmployeeManagementSystem()\n",
        "    ems.main_menu()"
      ],
      "metadata": {
        "colab": {
          "base_uri": "https://localhost:8080/"
        },
        "id": "ViH8tufDAYkx",
        "outputId": "974eceee-b414-4f6c-a1fc-b9538080129e"
      },
      "execution_count": 3,
      "outputs": [
        {
          "output_type": "stream",
          "name": "stdout",
          "text": [
            "\n",
            "--- Employee Management System ---\n",
            "1. Add Employee\n",
            "2. View All Employees\n",
            "3. Search for Employee\n",
            "4. Exit\n",
            "Enter your choice (1-4): 1\n",
            "Enter Employee ID: 103\n",
            "Enter Name: laila\n",
            "Enter Age: 22\n",
            "Enter Department: Finance\n",
            "Enter Salary: 80000\n",
            "Employee added successfully!\n",
            "\n",
            "--- Employee Management System ---\n",
            "1. Add Employee\n",
            "2. View All Employees\n",
            "3. Search for Employee\n",
            "4. Exit\n",
            "Enter your choice (1-4): 2\n",
            "\n",
            "--- All Employees ---\n",
            "Emp ID     Name            Age   Department      Salary    \n",
            "------------------------------------------------------------\n",
            "101        Satya           27    HR              50000     \n",
            "102        Riya            30    Finance         60000     \n",
            "103        laila           22    Finance         80000.0   \n",
            "\n",
            "--- Employee Management System ---\n",
            "1. Add Employee\n",
            "2. View All Employees\n",
            "3. Search for Employee\n",
            "4. Exit\n",
            "Enter your choice (1-4): 3\n",
            "Enter Employee ID to search: 101\n",
            "\n",
            "--- Employee Found ---\n",
            "Name: Satya\n",
            "Age: 27\n",
            "Department: HR\n",
            "Salary: 50000\n",
            "\n",
            "--- Employee Management System ---\n",
            "1. Add Employee\n",
            "2. View All Employees\n",
            "3. Search for Employee\n",
            "4. Exit\n",
            "Enter your choice (1-4): 8\n",
            "Invalid choice. Try again.\n",
            "\n",
            "--- Employee Management System ---\n",
            "1. Add Employee\n",
            "2. View All Employees\n",
            "3. Search for Employee\n",
            "4. Exit\n",
            "Enter your choice (1-4): 4\n",
            "Thank you for using EMS. Goodbye!\n"
          ]
        }
      ]
    },
    {
      "cell_type": "code",
      "source": [],
      "metadata": {
        "id": "ARu3ulOtAgMh"
      },
      "execution_count": null,
      "outputs": []
    }
  ]
}